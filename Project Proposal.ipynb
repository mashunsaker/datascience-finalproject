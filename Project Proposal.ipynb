{
 "cells": [
  {
   "cell_type": "markdown",
   "metadata": {},
   "source": [
    "# Project Proposal"
   ]
  },
  {
   "cell_type": "markdown",
   "metadata": {},
   "source": [
    "### Basic Info:\n",
    "\n",
    "**Title:** Income, Air, and Asthma\n",
    "<br>\n",
    "**Team Members:**\n",
    "<br> Theresa Aguilar, theresa.aguilar@utah.edu, u1329017\n",
    "<br> Yi-Jin Chen, yi-jin.chen@utah.edu, u1302428\n",
    "<br> Masha Hunsaker, masha.hunsaker@utah.edu, u0691060"
   ]
  },
  {
   "cell_type": "markdown",
   "metadata": {},
   "source": [
    "### Background and Motivation\n",
    "We chose this project because the health disparities inspired us. In the USA, health disparities are different for specific populations, such as gender, racial or ethnic group, age, geographic location, etc. Those groups may experience various healthcare obstacles, including the health care cost burden and the access to healthcare. Many potential factors affect health, but what is the factor which is most related to health disparities? We think that income could be an interesting aspect to explore the relation with health disparities. Income can influence people's choices, and those choices may cause different health results. There are many health problems, and we think respiratory-related diseases could be a good field for the health issue. According to the Centers for Disease Control and Prevention (CDC), 1 in 13 people have asthma, and more than 25 million Americans have asthma. On the other hand, according to the Asthma and Allergy Foundation of America (aafa), the annual per-person incremental medical cost of asthma was $3,266 (in 2015 U.S. dollars). Asthma is one of the USA's most common and costly diseases, and air quality is one of the eight factors that can affect asthma rates. Therefore, we decided to choose \"Income, Air, and Asthma\" as our project. \n"
   ]
  },
  {
   "cell_type": "markdown",
   "metadata": {},
   "source": [
    "### Project Objectives\n",
    "We would like to explore possible correlations between income, air quality, and asthma to determine if there is any practical statistical significance between any of these variables. We would like to learn how to apply the tools we learned from lessons in the data and accomplish fundamental analysis to interpret the data. A benefit to identifying the factors with the greatest impact on asthma is the knowledge needed to focus public health initiatives in the right areas. Both factors to combat and the geographical areas that need the most attention can be identified from an analysis like this."
   ]
  },
  {
   "cell_type": "markdown",
   "metadata": {},
   "source": [
    "### Data\n",
    "We are collecting our data primarily from government sources because they manage the public health data that we are looking for. We have chosen to focus on California and New York because of the population size, and we plan to do our analysis county by county. We will be able to export most of the datasets directly from the websites below with the exception of asthma prevalence in California. The California data is shown in an interactive tool, so it may require some web parsing.\n",
    "<br>Income data by county: https://data.ers.usda.gov/reports.aspx?ID=17828\n",
    "<br>Air quality data: https://aqs.epa.gov/aqsweb/airdata/download_files.html\n",
    "<br>California asthma data by county: https://www.cdph.ca.gov/Programs/CCDPHP/DEODC/EHIB/CPE/Pages/CaliforniaBreathingCountyAsthmaProfiles.aspx\n",
    "<br>California asthma hospitalization rates by county: https://data.chhs.ca.gov/dataset/asthma-hospitalization-rates-by-county\n",
    "<br>New York asthma hospitalization by county:\n",
    "https://www.health.ny.gov/statistics/environmental/public_health_tracking/about_pages/asthma/export\n",
    "<br>The years that our datasets have in common are 2015-2018.\n"
   ]
  },
  {
   "cell_type": "markdown",
   "metadata": {},
   "source": [
    "### Ethical considerations\n",
    "Stakeholders for our project would include people living in the areas in which we are conducting our data analysis. The data could possibly lead to other relevant questions. For instance, if there is a large discrepancy in income and asthma rate for families in the same air quality area, what else is going on? Is it a health care access issue, etc?"
   ]
  },
  {
   "cell_type": "markdown",
   "metadata": {},
   "source": [
    "### Data Processing\n",
    "We expect to do data cleanup, such as unreasonable values in air quality or income data and missing data. For example, negative data may replace 0 and drop missing data. We also need to choose what columns of those different data to use in our analysis, such as the age group or time series. We may select Median Household Income for income data, and use PM2.5 or AQI for air quality data. For asthma data, we may use prevalence because prevalence means the number of disease cases present in a particular population at a given time."
   ]
  },
  {
   "cell_type": "markdown",
   "metadata": {},
   "source": [
    "### Exploratory Analysis\n",
    "We expect to do data cleanup, such as unreasonable values in air quality or income data and missing data. For example, negative data may replace 0 and drop missing data. We also need to choose what columns of those different data to use in our analysis, such as the age group or time series. We may select Median Household Income for income data, and use PM2.5 or AQI for air quality data. For asthma data, we may use prevalence because prevalence means the number of disease cases present in a particular population at a given time."
   ]
  },
  {
   "cell_type": "markdown",
   "metadata": {},
   "source": [
    "### Analysis Methodology\n",
    "We plan to use the python package to analyze our data. Including but not limited to; csv, pandas, numpy, datetime, scipy, scipy.stats,matplotlib.pyplot, and seaborn. Linear regression and A/B testing will help us interpret relationships if any in our data."
   ]
  },
  {
   "cell_type": "markdown",
   "metadata": {},
   "source": [
    "### Project Schedule\n",
    "<table> <th>Date</th> <th>Milestone</th> </tr> <tr> <td>4/5</td> <td>Finished cleaning data / Confirm analysis methods</td> </tr> <tr><td>4/11</td> <td>First Milestone</td> </tr> <tr> <td>4/18</td> <td>Test codes / Three minutes video</td></tr> <tr> <td>4/25</td> <td>Final Submission</td> </tr> </table>\n",
    "\n"
   ]
  },
  {
   "cell_type": "code",
   "execution_count": null,
   "metadata": {},
   "outputs": [],
   "source": []
  }
 ],
 "metadata": {
  "kernelspec": {
   "display_name": "Python 3",
   "language": "python",
   "name": "python3"
  },
  "language_info": {
   "codemirror_mode": {
    "name": "ipython",
    "version": 3
   },
   "file_extension": ".py",
   "mimetype": "text/x-python",
   "name": "python",
   "nbconvert_exporter": "python",
   "pygments_lexer": "ipython3",
   "version": "3.8.3"
  }
 },
 "nbformat": 4,
 "nbformat_minor": 4
}
