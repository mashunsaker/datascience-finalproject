{
 "cells": [
  {
   "cell_type": "markdown",
   "metadata": {},
   "source": [
    "# Asthma Data\n",
    "This data began as 5 csv files. Since the set were relatively small they were simply merged in the Mac Numbers program. The data didn't need too much clean up. There were some data type changes, entire column deletions and dataframe shape manipluation. The largest piece of exploration for this set was a visulaiztion of the asthma emergency room visits by county and  year."
   ]
  },
  {
   "cell_type": "code",
   "execution_count": 1,
   "metadata": {},
   "outputs": [],
   "source": [
    "# imports\n",
    "import csv\n",
    "import pandas as pd\n",
    "import numpy as np\n",
    "import datetime\n",
    "import seaborn as sns\n",
    "import matplotlib.pyplot as plt\n",
    "plt.style.use('ggplot')\n",
    "%matplotlib inline"
   ]
  },
  {
   "cell_type": "code",
   "execution_count": 2,
   "metadata": {},
   "outputs": [
    {
     "name": "stdout",
     "output_type": "stream",
     "text": [
      "<class 'pandas.core.frame.DataFrame'>\n",
      "RangeIndex: 49 entries, 0 to 48\n",
      "Data columns (total 7 columns):\n",
      " #   Column          Non-Null Count  Dtype  \n",
      "---  ------          --------------  -----  \n",
      " 0   Asthma measure  48 non-null     object \n",
      " 1   CA number       48 non-null     object \n",
      " 2   CA rate         48 non-null     float64\n",
      " 3   County          48 non-null     object \n",
      " 4   County number   48 non-null     object \n",
      " 5   County rate     48 non-null     float64\n",
      " 6   Year            48 non-null     float64\n",
      "dtypes: float64(3), object(4)\n",
      "memory usage: 2.8+ KB\n"
     ]
    }
   ],
   "source": [
    "asthma_data = pd.read_csv('county_asthma.csv') #creating pandas dataframe \n",
    "asthma_data.drop(['Description','Group'], axis=1, inplace=True) #removing unhelpful columns\n",
    "asthma_data.info() #looking at the data types"
   ]
  },
  {
   "cell_type": "code",
   "execution_count": 3,
   "metadata": {},
   "outputs": [
    {
     "data": {
      "text/html": [
       "<div>\n",
       "<style scoped>\n",
       "    .dataframe tbody tr th:only-of-type {\n",
       "        vertical-align: middle;\n",
       "    }\n",
       "\n",
       "    .dataframe tbody tr th {\n",
       "        vertical-align: top;\n",
       "    }\n",
       "\n",
       "    .dataframe thead th {\n",
       "        text-align: right;\n",
       "    }\n",
       "</style>\n",
       "<table border=\"1\" class=\"dataframe\">\n",
       "  <thead>\n",
       "    <tr style=\"text-align: right;\">\n",
       "      <th></th>\n",
       "      <th>Asthma measure</th>\n",
       "      <th>CA number</th>\n",
       "      <th>CA rate</th>\n",
       "      <th>County</th>\n",
       "      <th>County number</th>\n",
       "      <th>County rate</th>\n",
       "      <th>Year</th>\n",
       "    </tr>\n",
       "  </thead>\n",
       "  <tbody>\n",
       "    <tr>\n",
       "      <th>0</th>\n",
       "      <td>Asthma ED visits</td>\n",
       "      <td>191,904</td>\n",
       "      <td>50.4</td>\n",
       "      <td>Orange</td>\n",
       "      <td>10,275</td>\n",
       "      <td>33.9</td>\n",
       "      <td>2015.0</td>\n",
       "    </tr>\n",
       "    <tr>\n",
       "      <th>1</th>\n",
       "      <td>Asthma hospitalizations</td>\n",
       "      <td>27,262</td>\n",
       "      <td>7.0</td>\n",
       "      <td>Orange</td>\n",
       "      <td>1,713</td>\n",
       "      <td>5.5</td>\n",
       "      <td>2015.0</td>\n",
       "    </tr>\n",
       "    <tr>\n",
       "      <th>2</th>\n",
       "      <td>Asthma ED visits</td>\n",
       "      <td>174,733</td>\n",
       "      <td>45.8</td>\n",
       "      <td>Orange</td>\n",
       "      <td>8,878</td>\n",
       "      <td>29.2</td>\n",
       "      <td>2016.0</td>\n",
       "    </tr>\n",
       "    <tr>\n",
       "      <th>3</th>\n",
       "      <td>Asthma ED visits</td>\n",
       "      <td>180,053</td>\n",
       "      <td>46.9</td>\n",
       "      <td>Orange</td>\n",
       "      <td>9,084</td>\n",
       "      <td>29.7</td>\n",
       "      <td>2017.0</td>\n",
       "    </tr>\n",
       "    <tr>\n",
       "      <th>4</th>\n",
       "      <td>Asthma ED visits</td>\n",
       "      <td>163,807</td>\n",
       "      <td>42.4</td>\n",
       "      <td>Orange</td>\n",
       "      <td>8,183</td>\n",
       "      <td>26.5</td>\n",
       "      <td>2018.0</td>\n",
       "    </tr>\n",
       "  </tbody>\n",
       "</table>\n",
       "</div>"
      ],
      "text/plain": [
       "            Asthma measure CA number  CA rate  County County number  \\\n",
       "0         Asthma ED visits   191,904     50.4  Orange        10,275   \n",
       "1  Asthma hospitalizations    27,262      7.0  Orange         1,713   \n",
       "2         Asthma ED visits   174,733     45.8  Orange         8,878   \n",
       "3         Asthma ED visits   180,053     46.9  Orange         9,084   \n",
       "4         Asthma ED visits   163,807     42.4  Orange         8,183   \n",
       "\n",
       "   County rate    Year  \n",
       "0         33.9  2015.0  \n",
       "1          5.5  2015.0  \n",
       "2         29.2  2016.0  \n",
       "3         29.7  2017.0  \n",
       "4         26.5  2018.0  "
      ]
     },
     "execution_count": 3,
     "metadata": {},
     "output_type": "execute_result"
    }
   ],
   "source": [
    "asthma_data.head()"
   ]
  },
  {
   "cell_type": "code",
   "execution_count": 4,
   "metadata": {},
   "outputs": [],
   "source": [
    "asthma_data.columns = [c.replace(' ', '_') for c in asthma_data.columns] #adding underscores to column names\n",
    "asthma_data= asthma_data.replace(',','', regex=True) #getting rid of commas"
   ]
  },
  {
   "cell_type": "code",
   "execution_count": 5,
   "metadata": {},
   "outputs": [
    {
     "name": "stdout",
     "output_type": "stream",
     "text": [
      "   Asthma_measure CA_number  CA_rate County County_number  County_rate  Year\n",
      "32            NaN       NaN      NaN    NaN           NaN          NaN   NaN\n"
     ]
    }
   ],
   "source": [
    "is_NaN = asthma_data.isnull() #identifying any full NaN rows\n",
    "row_has_NaN = is_NaN.any(axis=1)\n",
    "rows_with_NaN =asthma_data[row_has_NaN]\n",
    "print(rows_with_NaN)"
   ]
  },
  {
   "cell_type": "code",
   "execution_count": 6,
   "metadata": {},
   "outputs": [],
   "source": [
    "asthma_data = asthma_data.drop(labels=32, axis=0) #droping full NaN row"
   ]
  },
  {
   "cell_type": "code",
   "execution_count": 7,
   "metadata": {},
   "outputs": [],
   "source": [
    "asthma_data = asthma_data.astype({\"CA_number\": int, \"Year\": int}) #changing columns data type"
   ]
  },
  {
   "cell_type": "code",
   "execution_count": 8,
   "metadata": {},
   "outputs": [
    {
     "data": {
      "text/html": [
       "<div>\n",
       "<style scoped>\n",
       "    .dataframe tbody tr th:only-of-type {\n",
       "        vertical-align: middle;\n",
       "    }\n",
       "\n",
       "    .dataframe tbody tr th {\n",
       "        vertical-align: top;\n",
       "    }\n",
       "\n",
       "    .dataframe thead th {\n",
       "        text-align: right;\n",
       "    }\n",
       "</style>\n",
       "<table border=\"1\" class=\"dataframe\">\n",
       "  <thead>\n",
       "    <tr style=\"text-align: right;\">\n",
       "      <th></th>\n",
       "      <th>Asthma_measure</th>\n",
       "      <th>CA_number</th>\n",
       "      <th>CA_rate</th>\n",
       "      <th>County</th>\n",
       "      <th>County_number</th>\n",
       "      <th>County_rate</th>\n",
       "      <th>Year</th>\n",
       "    </tr>\n",
       "  </thead>\n",
       "  <tbody>\n",
       "    <tr>\n",
       "      <th>0</th>\n",
       "      <td>Asthma ED visits</td>\n",
       "      <td>191904</td>\n",
       "      <td>50.4</td>\n",
       "      <td>Orange</td>\n",
       "      <td>10275</td>\n",
       "      <td>33.9</td>\n",
       "      <td>2015</td>\n",
       "    </tr>\n",
       "    <tr>\n",
       "      <th>1</th>\n",
       "      <td>Asthma hospitalizations</td>\n",
       "      <td>27262</td>\n",
       "      <td>7.0</td>\n",
       "      <td>Orange</td>\n",
       "      <td>1713</td>\n",
       "      <td>5.5</td>\n",
       "      <td>2015</td>\n",
       "    </tr>\n",
       "    <tr>\n",
       "      <th>2</th>\n",
       "      <td>Asthma ED visits</td>\n",
       "      <td>174733</td>\n",
       "      <td>45.8</td>\n",
       "      <td>Orange</td>\n",
       "      <td>8878</td>\n",
       "      <td>29.2</td>\n",
       "      <td>2016</td>\n",
       "    </tr>\n",
       "    <tr>\n",
       "      <th>3</th>\n",
       "      <td>Asthma ED visits</td>\n",
       "      <td>180053</td>\n",
       "      <td>46.9</td>\n",
       "      <td>Orange</td>\n",
       "      <td>9084</td>\n",
       "      <td>29.7</td>\n",
       "      <td>2017</td>\n",
       "    </tr>\n",
       "    <tr>\n",
       "      <th>4</th>\n",
       "      <td>Asthma ED visits</td>\n",
       "      <td>163807</td>\n",
       "      <td>42.4</td>\n",
       "      <td>Orange</td>\n",
       "      <td>8183</td>\n",
       "      <td>26.5</td>\n",
       "      <td>2018</td>\n",
       "    </tr>\n",
       "  </tbody>\n",
       "</table>\n",
       "</div>"
      ],
      "text/plain": [
       "            Asthma_measure  CA_number  CA_rate  County County_number  \\\n",
       "0         Asthma ED visits     191904     50.4  Orange         10275   \n",
       "1  Asthma hospitalizations      27262      7.0  Orange          1713   \n",
       "2         Asthma ED visits     174733     45.8  Orange          8878   \n",
       "3         Asthma ED visits     180053     46.9  Orange          9084   \n",
       "4         Asthma ED visits     163807     42.4  Orange          8183   \n",
       "\n",
       "   County_rate  Year  \n",
       "0         33.9  2015  \n",
       "1          5.5  2015  \n",
       "2         29.2  2016  \n",
       "3         29.7  2017  \n",
       "4         26.5  2018  "
      ]
     },
     "execution_count": 8,
     "metadata": {},
     "output_type": "execute_result"
    }
   ],
   "source": [
    "asthma_data.head()"
   ]
  },
  {
   "cell_type": "code",
   "execution_count": 9,
   "metadata": {},
   "outputs": [
    {
     "data": {
      "text/html": [
       "<div>\n",
       "<style scoped>\n",
       "    .dataframe tbody tr th:only-of-type {\n",
       "        vertical-align: middle;\n",
       "    }\n",
       "\n",
       "    .dataframe tbody tr th {\n",
       "        vertical-align: top;\n",
       "    }\n",
       "\n",
       "    .dataframe thead th {\n",
       "        text-align: right;\n",
       "    }\n",
       "</style>\n",
       "<table border=\"1\" class=\"dataframe\">\n",
       "  <thead>\n",
       "    <tr style=\"text-align: right;\">\n",
       "      <th></th>\n",
       "      <th></th>\n",
       "      <th>CA_number</th>\n",
       "      <th>CA_rate</th>\n",
       "      <th>County</th>\n",
       "      <th>County_number</th>\n",
       "      <th>County_rate</th>\n",
       "    </tr>\n",
       "    <tr>\n",
       "      <th>Asthma_measure</th>\n",
       "      <th>Year</th>\n",
       "      <th></th>\n",
       "      <th></th>\n",
       "      <th></th>\n",
       "      <th></th>\n",
       "      <th></th>\n",
       "    </tr>\n",
       "  </thead>\n",
       "  <tbody>\n",
       "    <tr>\n",
       "      <th rowspan=\"4\" valign=\"top\">Asthma ED visits</th>\n",
       "      <th>2015</th>\n",
       "      <td>191904</td>\n",
       "      <td>50.4</td>\n",
       "      <td>Orange</td>\n",
       "      <td>10275</td>\n",
       "      <td>33.9</td>\n",
       "    </tr>\n",
       "    <tr>\n",
       "      <th>2016</th>\n",
       "      <td>174733</td>\n",
       "      <td>45.8</td>\n",
       "      <td>Orange</td>\n",
       "      <td>8878</td>\n",
       "      <td>29.2</td>\n",
       "    </tr>\n",
       "    <tr>\n",
       "      <th>2017</th>\n",
       "      <td>180053</td>\n",
       "      <td>46.9</td>\n",
       "      <td>Orange</td>\n",
       "      <td>9084</td>\n",
       "      <td>29.7</td>\n",
       "    </tr>\n",
       "    <tr>\n",
       "      <th>2018</th>\n",
       "      <td>163807</td>\n",
       "      <td>42.4</td>\n",
       "      <td>Orange</td>\n",
       "      <td>8183</td>\n",
       "      <td>26.5</td>\n",
       "    </tr>\n",
       "    <tr>\n",
       "      <th rowspan=\"4\" valign=\"top\">Asthma hospitalizations</th>\n",
       "      <th>2015</th>\n",
       "      <td>27262</td>\n",
       "      <td>7.0</td>\n",
       "      <td>Orange</td>\n",
       "      <td>1713</td>\n",
       "      <td>5.5</td>\n",
       "    </tr>\n",
       "    <tr>\n",
       "      <th>2016</th>\n",
       "      <td>18266</td>\n",
       "      <td>4.8</td>\n",
       "      <td>Orange</td>\n",
       "      <td>1082</td>\n",
       "      <td>3.5</td>\n",
       "    </tr>\n",
       "    <tr>\n",
       "      <th>2017</th>\n",
       "      <td>18097</td>\n",
       "      <td>4.7</td>\n",
       "      <td>Orange</td>\n",
       "      <td>1050</td>\n",
       "      <td>3.4</td>\n",
       "    </tr>\n",
       "    <tr>\n",
       "      <th>2018</th>\n",
       "      <td>17012</td>\n",
       "      <td>4.4</td>\n",
       "      <td>Orange</td>\n",
       "      <td>1026</td>\n",
       "      <td>3.3</td>\n",
       "    </tr>\n",
       "  </tbody>\n",
       "</table>\n",
       "</div>"
      ],
      "text/plain": [
       "                              CA_number  CA_rate  County County_number  \\\n",
       "Asthma_measure          Year                                             \n",
       "Asthma ED visits        2015     191904     50.4  Orange         10275   \n",
       "                        2016     174733     45.8  Orange          8878   \n",
       "                        2017     180053     46.9  Orange          9084   \n",
       "                        2018     163807     42.4  Orange          8183   \n",
       "Asthma hospitalizations 2015      27262      7.0  Orange          1713   \n",
       "                        2016      18266      4.8  Orange          1082   \n",
       "                        2017      18097      4.7  Orange          1050   \n",
       "                        2018      17012      4.4  Orange          1026   \n",
       "\n",
       "                              County_rate  \n",
       "Asthma_measure          Year               \n",
       "Asthma ED visits        2015         33.9  \n",
       "                        2016         29.2  \n",
       "                        2017         29.7  \n",
       "                        2018         26.5  \n",
       "Asthma hospitalizations 2015          5.5  \n",
       "                        2016          3.5  \n",
       "                        2017          3.4  \n",
       "                        2018          3.3  "
      ]
     },
     "execution_count": 9,
     "metadata": {},
     "output_type": "execute_result"
    }
   ],
   "source": [
    "adg = asthma_data.groupby(['Asthma_measure','Year'])\n",
    "adg.first()"
   ]
  },
  {
   "cell_type": "code",
   "execution_count": 10,
   "metadata": {},
   "outputs": [
    {
     "data": {
      "text/plain": [
       "array(['Orange', 'San Diego', 'Riverside', 'San Bernardino', 'Ventura',\n",
       "       'Los Angeles'], dtype=object)"
      ]
     },
     "execution_count": 10,
     "metadata": {},
     "output_type": "execute_result"
    }
   ],
   "source": [
    "asthma_data.County.unique()"
   ]
  },
  {
   "cell_type": "code",
   "execution_count": 11,
   "metadata": {},
   "outputs": [],
   "source": [
    "#want to see asthma ed visits by year per county corr\n",
    "AEDY2015 = asthma_data.loc[asthma_data[\"Asthma_measure\"]==\"Asthma ED visits\"]\n",
    "aedy2015 = AEDY2015.loc[AEDY2015[\"Year\"]==2015]\n",
    "aedy2015 = aedy2015.drop(columns=[\"CA_number\",\"CA_rate\",\"County_rate\",\"Asthma_measure\"])\n",
    "AEDY2016 = asthma_data.loc[asthma_data[\"Asthma_measure\"]==\"Asthma ED visits\"]\n",
    "aedy2016 = AEDY2016.loc[AEDY2015[\"Year\"]==2016]\n",
    "aedy2015 = aedy2016.drop(columns=[\"CA_number\",\"CA_rate\",\"County_rate\",\"Asthma_measure\"])\n",
    "AEDY2017 = asthma_data.loc[asthma_data[\"Asthma_measure\"]==\"Asthma ED visits\"]\n",
    "aedy2017 = AEDY2017.loc[AEDY2015[\"Year\"]==2017]\n",
    "aedy2015 = aedy2017.drop(columns=[\"CA_number\",\"CA_rate\",\"County_rate\",\"Asthma_measure\"])\n",
    "AEDY2018 = asthma_data.loc[asthma_data[\"Asthma_measure\"]==\"Asthma ED visits\"]\n",
    "aedy2018 = AEDY2018.loc[AEDY2015[\"Year\"]==2018]\n",
    "aedy2015 = aedy2018.drop(columns=[\"CA_number\",\"CA_rate\",\"County_rate\",\"Asthma_measure\"])"
   ]
  },
  {
   "cell_type": "code",
   "execution_count": 12,
   "metadata": {},
   "outputs": [
    {
     "name": "stdout",
     "output_type": "stream",
     "text": [
      "<class 'pandas.core.frame.DataFrame'>\n",
      "Int64Index: 24 entries, 0 to 45\n",
      "Data columns (total 3 columns):\n",
      " #   Column         Non-Null Count  Dtype \n",
      "---  ------         --------------  ----- \n",
      " 0   County         24 non-null     object\n",
      " 1   County_number  24 non-null     int64 \n",
      " 2   Year           24 non-null     int64 \n",
      "dtypes: int64(2), object(1)\n",
      "memory usage: 768.0+ bytes\n"
     ]
    },
    {
     "data": {
      "text/plain": [
       "<bound method NDFrame.head of             County  County_number  Year\n",
       "0           Orange          10275  2015\n",
       "2           Orange           8878  2016\n",
       "3           Orange           9084  2017\n",
       "4           Orange           8183  2018\n",
       "8        San Diego          11646  2015\n",
       "10       San Diego          10068  2016\n",
       "11       San Diego          10339  2017\n",
       "12       San Diego           9436  2018\n",
       "16       Riverside          10111  2015\n",
       "18       Riverside           9596  2016\n",
       "19       Riverside          10076  2017\n",
       "20       Riverside           8935  2018\n",
       "24  San Bernardino          12761  2015\n",
       "26  San Bernardino          11335  2016\n",
       "27  San Bernardino          11204  2017\n",
       "28  San Bernardino          10343  2018\n",
       "33         Ventura           2933  2015\n",
       "35         Ventura           2619  2016\n",
       "36         Ventura           2836  2017\n",
       "37         Ventura           2469  2018\n",
       "41     Los Angeles          52227  2015\n",
       "43     Los Angeles          50778  2016\n",
       "44     Los Angeles          49504  2017\n",
       "45     Los Angeles          46729  2018>"
      ]
     },
     "execution_count": 12,
     "metadata": {},
     "output_type": "execute_result"
    }
   ],
   "source": [
    "AED_all = asthma_data.loc[asthma_data[\"Asthma_measure\"]==\"Asthma ED visits\"]\n",
    "AED_all = AED_all.drop(columns=[\"CA_number\",\"CA_rate\",\"County_rate\",\"Asthma_measure\"]).copy()\n",
    "AED_all.County_number = AED_all.County_number.astype(int)\n",
    "AED_all.info()\n",
    "AED_all.head"
   ]
  },
  {
   "cell_type": "code",
   "execution_count": 13,
   "metadata": {
    "scrolled": false
   },
   "outputs": [
    {
     "data": {
      "text/plain": [
       "<matplotlib.axes._subplots.AxesSubplot at 0x7ffb8df1fd30>"
      ]
     },
     "execution_count": 13,
     "metadata": {},
     "output_type": "execute_result"
    },
    {
     "data": {
      "image/png": "[encoded data removed]",
      "text/plain": [
       "<Figure size 432x288 with 1 Axes>"
      ]
     },
     "metadata": {
      "needs_background": "light"
     },
     "output_type": "display_data"
    }
   ],
   "source": [
    "df1 = AED_all.loc[AED_all[\"County\"]==\"Orange\"]\n",
    "df2 = AED_all.loc[AED_all[\"County\"]==\"San Diego\"]\n",
    "df3 = AED_all.loc[AED_all[\"County\"]==\"Riverside\"]\n",
    "df4 = AED_all.loc[AED_all[\"County\"]==\"San Bernardino\"]\n",
    "df5 = AED_all.loc[AED_all[\"County\"]==\"Ventura\"]\n",
    "df6 = AED_all.loc[AED_all[\"County\"]==\"Los Angeles\"]\n",
    "\n",
    "ax = df1.plot(label='Orange')\n",
    "df2.plot(ax=ax,label='San Diego')\n",
    "df3.plot(ax=ax,label='Riverside')\n",
    "df4.plot(ax=ax,label='San Bernardino')\n",
    "df5.plot(ax=ax,label='Ventura')\n",
    "df6.plot(ax=ax,label='Los Angeles')"
   ]
  },
  {
   "cell_type": "code",
   "execution_count": 14,
   "metadata": {},
   "outputs": [
    {
     "ename": "NameError",
     "evalue": "name 'sort' is not defined",
     "output_type": "error",
     "traceback": [
      "\u001b[0;31m---------------------------------------------------------------------------\u001b[0m",
      "\u001b[0;31mNameError\u001b[0m                                 Traceback (most recent call last)",
      "\u001b[0;32m<ipython-input-14-fa3816cb0c26>\u001b[0m in \u001b[0;36m<module>\u001b[0;34m\u001b[0m\n\u001b[1;32m      1\u001b[0m \u001b[0msorty\u001b[0m \u001b[0;34m=\u001b[0m \u001b[0mAED_all\u001b[0m\u001b[0;34m.\u001b[0m\u001b[0msort_values\u001b[0m\u001b[0;34m(\u001b[0m\u001b[0;34m'Year'\u001b[0m\u001b[0;34m)\u001b[0m\u001b[0;34m\u001b[0m\u001b[0;34m\u001b[0m\u001b[0m\n\u001b[0;32m----> 2\u001b[0;31m \u001b[0msorty\u001b[0m \u001b[0;34m=\u001b[0m \u001b[0msort\u001b[0m\u001b[0;34m.\u001b[0m\u001b[0mreset_index\u001b[0m\u001b[0;34m(\u001b[0m\u001b[0mdrop\u001b[0m\u001b[0;34m=\u001b[0m\u001b[0;32mTrue\u001b[0m\u001b[0;34m)\u001b[0m\u001b[0;34m\u001b[0m\u001b[0;34m\u001b[0m\u001b[0m\n\u001b[0m\u001b[1;32m      3\u001b[0m \u001b[0msorty\u001b[0m\u001b[0;34m\u001b[0m\u001b[0;34m\u001b[0m\u001b[0m\n",
      "\u001b[0;31mNameError\u001b[0m: name 'sort' is not defined"
     ]
    }
   ],
   "source": [
    "sorty = AED_all.sort_values('Year')\n",
    "sorty = sort.reset_index(drop=True)\n",
    "sorty"
   ]
  },
  {
   "cell_type": "code",
   "execution_count": 15,
   "metadata": {
    "scrolled": true
   },
   "outputs": [
    {
     "data": {
      "image/png": "[encoded data removed]",
      "text/plain": [
       "<Figure size 1080x720 with 1 Axes>"
      ]
     },
     "metadata": {
      "needs_background": "light"
     },
     "output_type": "display_data"
    }
   ],
   "source": [
    "ndf = pd.DataFrame({\"2015\" : [2933, 10275, 11646, 10111, 12761, 52227],\n",
    "                    \"2016\" : [2619, 8878, 10068, 10111, 11335, 50778 ],\n",
    "                    \"2017\" : [2836, 9084, 10339, 10076, 11204, 49504],\n",
    "                    \"2018\" : [2469, 8183, 9436, 8935, 10343, 46729]},\n",
    "                   index = [\"Ventura\", \"Orange\", \"San Diego\", \"Riverside\", \"San Bernardino\", \"Los Angeles\"])\n",
    "ax = ndf[['2015','2016','2017','2018']].plot(kind='bar', title =\"Emergency Visits by County per Year\", figsize=(15, 10), legend=True, fontsize=12)\n",
    "ax.set_xlabel(\"County\", fontsize=12)\n",
    "ax.set_ylabel(\"Emergeny Visits\", fontsize=12)\n",
    "plt.show()\n"
   ]
  },
  {
   "cell_type": "markdown",
   "metadata": {},
   "source": [
    "## Resources\n",
    "https://stackoverflow.com/questions/13757090/pandas-column-access-w-column-names-containing-spaces\n",
    "https://stackoverflow.com/questions/56947333/how-to-remove-commas-from-all-the-column-in-pandas-at-once\n",
    "https://www.kite.com/python/answers/how-to-find-rows-with-nan-values-in-a-pandas-dataframe-in-python#\n",
    "https://www.shanelynn.ie/pandas-drop-delete-dataframe-rows-columns/\n",
    "geeksforgeeks.org/python-pandas-dataframe-groupby/  \n",
    "https://scitools.org.uk/cartopy/docs/latest/index.html  \n",
    "https://prd-tnm.s3.amazonaws.com/StagedProducts/Small-scale/data/Boundaries/countyl010g_shp_nt00964.tar.gz   \n",
    "https://matplotlib.org/stable/api/_as_gen/matplotlib.pyplot.scatter.html   \n",
    "https://pandas.pydata.org/Pandas_Cheat_Sheet.pdf  \n",
    "https://pandas.pydata.org/docs/getting_started/intro_tutorials/03_subset_data.html   \n",
    "https://stackoverflow.com/questions/45947971/overlay-scatter-plot-on-map-img   \n",
    "https://www.youtube.com/watch?v=4M2aiHvhr5Y   \n",
    "https://stackoverflow.com/questions/40071096/how-to-plot-multiple-lines-in-one-figure-in-pandas-python-based-on-data-from-mul  \n",
    "\n",
    "\n",
    "\n"
   ]
  },
  {
   "cell_type": "code",
   "execution_count": null,
   "metadata": {},
   "outputs": [],
   "source": []
  }
 ],
 "metadata": {
  "kernelspec": {
   "display_name": "Python 3",
   "language": "python",
   "name": "python3"
  },
  "language_info": {
   "codemirror_mode": {
    "name": "ipython",
    "version": 3
   },
   "file_extension": ".py",
   "mimetype": "text/x-python",
   "name": "python",
   "nbconvert_exporter": "python",
   "pygments_lexer": "ipython3",
   "version": "3.8.3"
  }
 },
 "nbformat": 4,
 "nbformat_minor": 4
}
